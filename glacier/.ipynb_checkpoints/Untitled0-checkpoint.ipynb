{
 "metadata": {
  "name": "",
  "signature": "sha256:1eb2ff7cfa5e5f6739e70edfcb880b661909ade6780483fe54a9c9917b4a0ce2"
 },
 "nbformat": 3,
 "nbformat_minor": 0,
 "worksheets": [
  {
   "cells": [
    {
     "cell_type": "code",
     "collapsed": false,
     "input": [
      "%matplotlib inline"
     ],
     "language": "python",
     "metadata": {},
     "outputs": [],
     "prompt_number": 1
    },
    {
     "cell_type": "code",
     "collapsed": false,
     "input": [
      "import sys\n",
      "sys.path.append('/opt/local/Library/Frameworks/Python.framework/Versions/2.7/lib/python2.7/site-packages')"
     ],
     "language": "python",
     "metadata": {},
     "outputs": [],
     "prompt_number": 2
    },
    {
     "cell_type": "code",
     "collapsed": false,
     "input": [
      "import numpy as np\n",
      "import matplotlib.pyplot as plt\n",
      "import pandas as pd\n",
      "from netCDF4 import Dataset\n",
      "import os\n",
      "from netCDF4 import date2num, num2date"
     ],
     "language": "python",
     "metadata": {},
     "outputs": [],
     "prompt_number": 3
    },
    {
     "cell_type": "code",
     "collapsed": false,
     "input": [
      "def get_data_ts(ifile,nlat,nlon,start=None,end=None,timname='time'):\n",
      "    if os.path.exists(ifile):\n",
      "        nc = Dataset(ifile,'r')\n",
      "    else:\n",
      "        sys.exit('No such file:{}'.format(ifile))\n",
      "    for key in nc.variables.keys():\n",
      "        if key not in nc.dimensions.keys():\n",
      "            var = key\n",
      "    time =  num2date(nc.variables[timname][:],\n",
      "                     nc.variables[timname].units,\n",
      "                     nc.variables[timname].calendar)\n",
      "    df = pd.Series(nc.variables[var][:,nlat,nlon],index = time)\n",
      "    lons = nc.variables['lon'][:]\n",
      "    lats = nc.variables['lat'][:]\n",
      "    nc.close()\n",
      "    if start:\n",
      "        df = df[start:]\n",
      "    if end:\n",
      "        df = df[:end]\n",
      "    return df, format(lats[nlat],'.5f'), format(lons[nlon],'.5f')"
     ],
     "language": "python",
     "metadata": {},
     "outputs": [],
     "prompt_number": 88
    },
    {
     "cell_type": "code",
     "collapsed": false,
     "input": [
      "ifile = '/Volumes/HDTemp/jiawei/pacific/PLACE/BCSD+ANUSPLIN300+CanESM2_historical_rcp45_{0}.nc'\n",
      "df_pr,lat,lon = get_data_ts(ifile.format('pr'),11,35)\n",
      "df_tasmax,lat,lon = get_data_ts(ifile.format('tasmax'),11,35)\n",
      "df_tasmin,lat,lon = get_data_ts(ifile.format('tasmin'),11,35)"
     ],
     "language": "python",
     "metadata": {},
     "outputs": [],
     "prompt_number": 96
    },
    {
     "cell_type": "code",
     "collapsed": false,
     "input": [
      "array = np.array([df_pr.values,df_tasmax.values,df_tasmin.values])"
     ],
     "language": "python",
     "metadata": {},
     "outputs": [],
     "prompt_number": 100
    },
    {
     "cell_type": "code",
     "collapsed": false,
     "input": [
      "np.savetxt('data_{0}_{1}'.format(lat,lon),array.transpose(),fmt='%3f')"
     ],
     "language": "python",
     "metadata": {},
     "outputs": [],
     "prompt_number": 106
    },
    {
     "cell_type": "code",
     "collapsed": false,
     "input": [
      "models = ['BCSD+ANUSPLIN300+CanESM2','BCSD+ANUSPLIN300+ACCESS1-0','BCSD+ANUSPLIN300+CNRM-CM5','BCSD+ANUSPLIN300+MRI-CGCM3',\n",
      "'BCSD+ANUSPLIN300+MIROC5','BCSD+ANUSPLIN300+MPI-ESM-LR','BCSD+ANUSPLIN300+CSIRO-Mk3-6-0','BCSD+ANUSPLIN300+inmcm4',\n",
      "'BCSD+ANUSPLIN300+GFDL-ESM2G','BCSD+ANUSPLIN300+HadGEM2-CC','BCSD+ANUSPLIN300+HadGEM2-ES','BCSD+ANUSPLIN300+CCSM4']\n",
      "scenarios = ['historical_rcp45','historical_rcp85']\n",
      "variables = ['pr','tasmax','tasmin']"
     ],
     "language": "python",
     "metadata": {},
     "outputs": []
    },
    {
     "cell_type": "code",
     "collapsed": false,
     "input": [
      "nlats = 12\n",
      "nlons = 36\n",
      "ifile = '/Volumes/HDTemp/jiawei/pacific/PLACE/{0}_{1}_{2}.nc'\n",
      "odir = '/Volumes/HDTemp/jiawei/pacific/txt/PLACE/{0}/{1}'\n",
      "ofile = '/Volumes/HDTemp/jiawei/pacific/txt/PLACE/{0}/{1}/data_{2}_{3}'\n",
      "models = ['BCSD+ANUSPLIN300+CanESM2','BCSD+ANUSPLIN300+ACCESS1-0','BCSD+ANUSPLIN300+CNRM-CM5','BCSD+ANUSPLIN300+MRI-CGCM3',\n",
      "'BCSD+ANUSPLIN300+MIROC5','BCSD+ANUSPLIN300+MPI-ESM-LR','BCSD+ANUSPLIN300+CSIRO-Mk3-6-0','BCSD+ANUSPLIN300+inmcm4',\n",
      "'BCSD+ANUSPLIN300+GFDL-ESM2G','BCSD+ANUSPLIN300+HadGEM2-CC','BCSD+ANUSPLIN300+HadGEM2-ES','BCSD+ANUSPLIN300+CCSM4']\n",
      "scenarios = ['historical_rcp45','historical_rcp85']\n",
      "for model in models:\n",
      "    for scenario in scenarios:\n",
      "        os.makedirs(odir.format(model,scenario))\n",
      "        for nlat in range(nlats):\n",
      "            for nlon in range(nlons):\n",
      "                df_pr,lat,lon = get_data_ts(ifile.format(model,scenario,'pr'),nlat,nlon)\n",
      "                df_tasmax,lat,lon = get_data_ts(ifile.format(model,scenario,'tasmax'),nlat,nlon)\n",
      "                df_tasmin,lat,lon = get_data_ts(ifile.format(model,scenario,'tasmin'),nlat,nlon)\n",
      "                array = np.array([df_pr.values,df_tasmax.values,df_tasmin.values])\n",
      "                np.savetxt(ofile.format(model,scenario,lat,lon),array.transpose(),fmt='%3f')"
     ],
     "language": "python",
     "metadata": {},
     "outputs": [],
     "prompt_number": 112
    },
    {
     "cell_type": "code",
     "collapsed": false,
     "input": [
      "os.makedirs('/Volumes/HDTemp/jiawei/pacific/first/second')"
     ],
     "language": "python",
     "metadata": {},
     "outputs": [],
     "prompt_number": 110
    },
    {
     "cell_type": "code",
     "collapsed": false,
     "input": [
      "np.shape(array.transpose())"
     ],
     "language": "python",
     "metadata": {},
     "outputs": [
      {
       "metadata": {},
       "output_type": "pyout",
       "prompt_number": 105,
       "text": [
        "(55152, 3)"
       ]
      }
     ],
     "prompt_number": 105
    },
    {
     "cell_type": "code",
     "collapsed": false,
     "input": [
      "lat"
     ],
     "language": "python",
     "metadata": {},
     "outputs": [
      {
       "metadata": {},
       "output_type": "pyout",
       "prompt_number": 77,
       "text": [
        "53.458332835"
       ]
      }
     ],
     "prompt_number": 77
    },
    {
     "cell_type": "code",
     "collapsed": false,
     "input": [
      "len(lon)"
     ],
     "language": "python",
     "metadata": {},
     "outputs": [
      {
       "metadata": {},
       "output_type": "pyout",
       "prompt_number": 71,
       "text": [
        "30"
       ]
      }
     ],
     "prompt_number": 71
    },
    {
     "cell_type": "code",
     "collapsed": false,
     "input": [
      "lat[23]"
     ],
     "language": "python",
     "metadata": {},
     "outputs": [
      {
       "metadata": {},
       "output_type": "pyout",
       "prompt_number": 74,
       "text": [
        "53.458332835"
       ]
      }
     ],
     "prompt_number": 74
    },
    {
     "cell_type": "code",
     "collapsed": false,
     "input": [
      "lat"
     ],
     "language": "python",
     "metadata": {},
     "outputs": [
      {
       "metadata": {},
       "output_type": "pyout",
       "prompt_number": 62,
       "text": [
        "array([-118.45833423, -118.37500091, -118.29166758, -118.20833425,\n",
        "       -118.12500092, -118.04166758, -117.95833425, -117.87500092,\n",
        "       -117.7916676 , -117.70833427, -117.62500094, -117.54166761,\n",
        "       -117.45833427, -117.37500094, -117.29166761, -117.20833429,\n",
        "       -117.12500096, -117.04166763, -116.9583343 , -116.87500096,\n",
        "       -116.79166763, -116.7083343 , -116.62500098, -116.54166765,\n",
        "       -116.45833432, -116.37500098, -116.29166765, -116.20833432,\n",
        "       -116.12500099, -116.04166767])"
       ]
      }
     ],
     "prompt_number": 62
    },
    {
     "cell_type": "code",
     "collapsed": false,
     "input": [
      "df.values"
     ],
     "language": "python",
     "metadata": {},
     "outputs": [
      {
       "metadata": {},
       "output_type": "pyout",
       "prompt_number": 61,
       "text": [
        "array([-6.57999992, -7.29999971, -8.57999992, ...,  0.17999999,\n",
        "       -6.67999983, -7.98999977], dtype=float32)"
       ]
      }
     ],
     "prompt_number": 61
    },
    {
     "cell_type": "code",
     "collapsed": false,
     "input": [
      "lats = [format(la,'.5f') for la in lat]"
     ],
     "language": "python",
     "metadata": {},
     "outputs": [],
     "prompt_number": 33
    },
    {
     "cell_type": "code",
     "collapsed": false,
     "input": [
      "len(lats)"
     ],
     "language": "python",
     "metadata": {},
     "outputs": [
      {
       "metadata": {},
       "output_type": "pyout",
       "prompt_number": 49,
       "text": [
        "30"
       ]
      }
     ],
     "prompt_number": 49
    },
    {
     "cell_type": "code",
     "collapsed": false,
     "input": [
      "len(lons)"
     ],
     "language": "python",
     "metadata": {},
     "outputs": [
      {
       "metadata": {},
       "output_type": "pyout",
       "prompt_number": 50,
       "text": [
        "24"
       ]
      }
     ],
     "prompt_number": 50
    },
    {
     "cell_type": "code",
     "collapsed": false,
     "input": [
      "lon[2] - lon[1]"
     ],
     "language": "python",
     "metadata": {},
     "outputs": [
      {
       "metadata": {},
       "output_type": "pyout",
       "prompt_number": 29,
       "text": [
        "0.083333329999994987"
       ]
      }
     ],
     "prompt_number": 29
    },
    {
     "cell_type": "code",
     "collapsed": false,
     "input": [
      "lons = [format(lo,'.5f') for lo in lon]"
     ],
     "language": "python",
     "metadata": {},
     "outputs": [],
     "prompt_number": 35
    },
    {
     "cell_type": "code",
     "collapsed": false,
     "input": [
      "lo = np.array(lons)\n",
      "la = np.array(lats)"
     ],
     "language": "python",
     "metadata": {},
     "outputs": [],
     "prompt_number": 40
    },
    {
     "cell_type": "code",
     "collapsed": false,
     "input": [
      "l = [float(lo) for lo in lons]"
     ],
     "language": "python",
     "metadata": {},
     "outputs": [],
     "prompt_number": 45
    },
    {
     "cell_type": "code",
     "collapsed": false,
     "input": [
      "l"
     ],
     "language": "python",
     "metadata": {},
     "outputs": [
      {
       "metadata": {},
       "output_type": "pyout",
       "prompt_number": 46,
       "text": [
        "[51.54167,\n",
        " 51.625,\n",
        " 51.70833,\n",
        " 51.79167,\n",
        " 51.875,\n",
        " 51.95833,\n",
        " 52.04167,\n",
        " 52.125,\n",
        " 52.20833,\n",
        " 52.29167,\n",
        " 52.375,\n",
        " 52.45833,\n",
        " 52.54167,\n",
        " 52.625,\n",
        " 52.70833,\n",
        " 52.79167,\n",
        " 52.875,\n",
        " 52.95833,\n",
        " 53.04167,\n",
        " 53.125,\n",
        " 53.20833,\n",
        " 53.29167,\n",
        " 53.375,\n",
        " 53.45833]"
       ]
      }
     ],
     "prompt_number": 46
    },
    {
     "cell_type": "code",
     "collapsed": false,
     "input": [
      "np.meshgrid(lo,la)"
     ],
     "language": "python",
     "metadata": {},
     "outputs": [
      {
       "ename": "TypeError",
       "evalue": "unsupported operand type(s) for *: 'numpy.ndarray' and 'numpy.ndarray'",
       "output_type": "pyerr",
       "traceback": [
        "\u001b[0;31m---------------------------------------------------------------------------\u001b[0m\n\u001b[0;31mTypeError\u001b[0m                                 Traceback (most recent call last)",
        "\u001b[0;32m<ipython-input-41-a17af2b74e75>\u001b[0m in \u001b[0;36m<module>\u001b[0;34m()\u001b[0m\n\u001b[0;32m----> 1\u001b[0;31m \u001b[0mnp\u001b[0m\u001b[0;34m.\u001b[0m\u001b[0mmeshgrid\u001b[0m\u001b[0;34m(\u001b[0m\u001b[0mlo\u001b[0m\u001b[0;34m,\u001b[0m\u001b[0mla\u001b[0m\u001b[0;34m)\u001b[0m\u001b[0;34m\u001b[0m\u001b[0m\n\u001b[0m",
        "\u001b[0;32m/Users/erkan/jiawei/env/lib/python2.7/site-packages/numpy/lib/function_base.pyc\u001b[0m in \u001b[0;36mmeshgrid\u001b[0;34m(*xi, **kwargs)\u001b[0m\n\u001b[1;32m   3420\u001b[0m         \u001b[0;32mif\u001b[0m \u001b[0mcopy_\u001b[0m\u001b[0;34m:\u001b[0m\u001b[0;34m\u001b[0m\u001b[0m\n\u001b[1;32m   3421\u001b[0m             \u001b[0mmult_fact\u001b[0m \u001b[0;34m=\u001b[0m \u001b[0mnp\u001b[0m\u001b[0;34m.\u001b[0m\u001b[0mones\u001b[0m\u001b[0;34m(\u001b[0m\u001b[0mshape\u001b[0m\u001b[0;34m,\u001b[0m \u001b[0mdtype\u001b[0m\u001b[0;34m=\u001b[0m\u001b[0mint\u001b[0m\u001b[0;34m)\u001b[0m\u001b[0;34m\u001b[0m\u001b[0m\n\u001b[0;32m-> 3422\u001b[0;31m             \u001b[0;32mreturn\u001b[0m \u001b[0;34m[\u001b[0m\u001b[0mx\u001b[0m \u001b[0;34m*\u001b[0m \u001b[0mmult_fact\u001b[0m \u001b[0;32mfor\u001b[0m \u001b[0mx\u001b[0m \u001b[0;32min\u001b[0m \u001b[0moutput\u001b[0m\u001b[0;34m]\u001b[0m\u001b[0;34m\u001b[0m\u001b[0m\n\u001b[0m\u001b[1;32m   3423\u001b[0m         \u001b[0;32melse\u001b[0m\u001b[0;34m:\u001b[0m\u001b[0;34m\u001b[0m\u001b[0m\n\u001b[1;32m   3424\u001b[0m             \u001b[0;32mreturn\u001b[0m \u001b[0mnp\u001b[0m\u001b[0;34m.\u001b[0m\u001b[0mbroadcast_arrays\u001b[0m\u001b[0;34m(\u001b[0m\u001b[0;34m*\u001b[0m\u001b[0moutput\u001b[0m\u001b[0;34m)\u001b[0m\u001b[0;34m\u001b[0m\u001b[0m\n",
        "\u001b[0;31mTypeError\u001b[0m: unsupported operand type(s) for *: 'numpy.ndarray' and 'numpy.ndarray'"
       ]
      }
     ],
     "prompt_number": 41
    },
    {
     "cell_type": "code",
     "collapsed": false,
     "input": [
      "lons"
     ],
     "language": "python",
     "metadata": {},
     "outputs": [
      {
       "metadata": {},
       "output_type": "pyout",
       "prompt_number": 36,
       "text": [
        "['51.54167',\n",
        " '51.62500',\n",
        " '51.70833',\n",
        " '51.79167',\n",
        " '51.87500',\n",
        " '51.95833',\n",
        " '52.04167',\n",
        " '52.12500',\n",
        " '52.20833',\n",
        " '52.29167',\n",
        " '52.37500',\n",
        " '52.45833',\n",
        " '52.54167',\n",
        " '52.62500',\n",
        " '52.70833',\n",
        " '52.79167',\n",
        " '52.87500',\n",
        " '52.95833',\n",
        " '53.04167',\n",
        " '53.12500',\n",
        " '53.20833',\n",
        " '53.29167',\n",
        " '53.37500',\n",
        " '53.45833']"
       ]
      }
     ],
     "prompt_number": 36
    },
    {
     "cell_type": "code",
     "collapsed": false,
     "input": [
      "df"
     ],
     "language": "python",
     "metadata": {},
     "outputs": [
      {
       "metadata": {},
       "output_type": "pyout",
       "prompt_number": 6,
       "text": [
        "1950-01-01    -6.360000\n",
        "1950-01-02   -10.389999\n",
        "1950-01-03    -8.460000\n",
        "1950-01-04   -11.030000\n",
        "1950-01-05   -13.639999\n",
        "1950-01-06   -13.049999\n",
        "1950-01-07   -17.379999\n",
        "1950-01-08   -19.699999\n",
        "1950-01-09   -15.920000\n",
        "1950-01-10   -15.349999\n",
        "1950-01-11   -16.629999\n",
        "1950-01-12   -18.959999\n",
        "1950-01-13   -11.050000\n",
        "1950-01-14   -11.630000\n",
        "1950-01-15    -9.480000\n",
        "...\n",
        "2100-12-17   -8.860000\n",
        "2100-12-18    2.140000\n",
        "2100-12-19    4.220000\n",
        "2100-12-20    3.970000\n",
        "2100-12-21    3.800000\n",
        "2100-12-22   -3.600000\n",
        "2100-12-23   -9.389999\n",
        "2100-12-24   -3.660000\n",
        "2100-12-25   -0.290000\n",
        "2100-12-26    1.000000\n",
        "2100-12-27    0.790000\n",
        "2100-12-28   -0.050000\n",
        "2100-12-29   -2.730000\n",
        "2100-12-30   -2.140000\n",
        "2100-12-31   -1.510000\n",
        "Length: 55152"
       ]
      }
     ],
     "prompt_number": 6
    },
    {
     "cell_type": "code",
     "collapsed": false,
     "input": [
      "df"
     ],
     "language": "python",
     "metadata": {},
     "outputs": [
      {
       "metadata": {},
       "output_type": "pyout",
       "prompt_number": 12,
       "text": [
        "1950-01-01     0.599989\n",
        "1950-01-02    28.699989\n",
        "1950-01-03     6.649989\n",
        "1950-01-04    15.374990\n",
        "1950-01-05     8.024989\n",
        "1950-01-06     0.000000\n",
        "1950-01-07     2.474989\n",
        "1950-01-08    20.349989\n",
        "1950-01-09    10.149989\n",
        "1950-01-10     0.674989\n",
        "1950-01-11     0.000000\n",
        "1950-01-12    20.374989\n",
        "1950-01-13     2.499989\n",
        "1950-01-14    31.649990\n",
        "1950-01-15    13.649989\n",
        "...\n",
        "2100-12-17    16.874989\n",
        "2100-12-18    26.899990\n",
        "2100-12-19     8.449989\n",
        "2100-12-20    29.724989\n",
        "2100-12-21     1.649989\n",
        "2100-12-22     1.624989\n",
        "2100-12-23    13.649989\n",
        "2100-12-24    18.324989\n",
        "2100-12-25    20.049990\n",
        "2100-12-26    10.849989\n",
        "2100-12-27     1.824989\n",
        "2100-12-28     6.399989\n",
        "2100-12-29     0.474989\n",
        "2100-12-30    10.799989\n",
        "2100-12-31    15.099989\n",
        "Length: 55152"
       ]
      }
     ],
     "prompt_number": 12
    }
   ],
   "metadata": {}
  }
 ]
}