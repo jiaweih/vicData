{
 "metadata": {
  "name": "",
  "signature": "sha256:74f519e99e14d4cb8433bf31bdeea395ca7ce4a7ef509b5108e1a751d94c7c3f"
 },
 "nbformat": 3,
 "nbformat_minor": 0,
 "worksheets": [
  {
   "cells": [
    {
     "cell_type": "code",
     "collapsed": false,
     "input": [
      "%matplotlib inline"
     ],
     "language": "python",
     "metadata": {},
     "outputs": [],
     "prompt_number": 1
    },
    {
     "cell_type": "code",
     "collapsed": false,
     "input": [
      "import sys\n",
      "sys.path.append('/opt/local/Library/Frameworks/Python.framework/Versions/2.7/lib/python2.7/site-packages')\n",
      "sys.path.append('/opt/local/Library/Frameworks/Python.framework/Versions/2.7/lib/python2.7/site-packages/base')"
     ],
     "language": "python",
     "metadata": {},
     "outputs": [],
     "prompt_number": 2
    },
    {
     "cell_type": "code",
     "collapsed": false,
     "input": [
      "import numpy as np\n",
      "import matplotlib.pyplot as plt\n",
      "import pandas as pd\n",
      "from netCDF4 import Dataset\n",
      "import os\n",
      "from netCDF4 import date2num, num2date"
     ],
     "language": "python",
     "metadata": {},
     "outputs": [],
     "prompt_number": 3
    },
    {
     "cell_type": "code",
     "collapsed": false,
     "input": [
      "def get_data_ts(ifile,nlat,nlon,start=None,end=None,timname='time'):\n",
      "    if os.path.exists(ifile):\n",
      "        nc = Dataset(ifile,'r')\n",
      "    else:\n",
      "        sys.exit('No such file:{}'.format(ifile))\n",
      "    for key in nc.variables.keys():\n",
      "        if key not in nc.dimensions.keys():\n",
      "            var = key\n",
      "    time =  num2date(nc.variables[timname][:],\n",
      "                     nc.variables[timname].units,\n",
      "                     nc.variables[timname].calendar)\n",
      "    df = pd.Series(nc.variables[var][:,nlat,nlon],index = time)\n",
      "    lons = nc.variables['lon'][:]\n",
      "    lats = nc.variables['lat'][:]\n",
      "    nc.close()\n",
      "    if start:\n",
      "        df = df[start:]\n",
      "    if end:\n",
      "        df = df[:end]\n",
      "    return df, format(lats[nlat],'.5f'), format(lons[nlon],'.5f')"
     ],
     "language": "python",
     "metadata": {},
     "outputs": [],
     "prompt_number": 4
    },
    {
     "cell_type": "code",
     "collapsed": false,
     "input": [
      "ifile = '/Volumes/HDTemp/jiawei/pacific/wind/vwnd.10m.1980.nc'"
     ],
     "language": "python",
     "metadata": {},
     "outputs": [],
     "prompt_number": 5
    },
    {
     "cell_type": "code",
     "collapsed": false,
     "input": [
      "fh = Dataset(ifile, mode='r')"
     ],
     "language": "python",
     "metadata": {},
     "outputs": [],
     "prompt_number": 6
    },
    {
     "cell_type": "code",
     "collapsed": false,
     "input": [
      "lons = fh.variables['lon'][:]\n",
      "lats = fh.variables['lat'][:]\n",
      "vwnd = fh.variables['vwnd'][:]\n",
      "\n",
      "vwnd_units = fh.variables['vwnd'].units"
     ],
     "language": "python",
     "metadata": {},
     "outputs": [],
     "prompt_number": 7
    },
    {
     "cell_type": "code",
     "collapsed": false,
     "input": [
      "y = fh.variables['y'][:]\n",
      "x = fh.variables['x'][:]"
     ],
     "language": "python",
     "metadata": {},
     "outputs": [],
     "prompt_number": 8
    },
    {
     "cell_type": "code",
     "collapsed": false,
     "input": [
      "np.shape(x)"
     ],
     "language": "python",
     "metadata": {},
     "outputs": [
      {
       "metadata": {},
       "output_type": "pyout",
       "prompt_number": 9,
       "text": [
        "(349,)"
       ]
      }
     ],
     "prompt_number": 9
    },
    {
     "cell_type": "code",
     "collapsed": false,
     "input": [
      "ifile = '/Volumes/HDTemp/jiawei/pacific/wind/junk.nc'\n",
      "fh = Dataset(ifile, mode='r')"
     ],
     "language": "python",
     "metadata": {},
     "outputs": [],
     "prompt_number": 10
    },
    {
     "cell_type": "code",
     "collapsed": false,
     "input": [
      "lons = fh.variables['lon'][:]\n",
      "lats = fh.variables['lat'][:]\n",
      "vwnd = fh.variables['uwnd'][:]\n",
      "\n",
      "vwnd_units = fh.variables['uwnd'].units"
     ],
     "language": "python",
     "metadata": {},
     "outputs": [],
     "prompt_number": 12
    },
    {
     "cell_type": "code",
     "collapsed": false,
     "input": [
      "np.shape(vwnd)"
     ],
     "language": "python",
     "metadata": {},
     "outputs": [
      {
       "metadata": {},
       "output_type": "pyout",
       "prompt_number": 20,
       "text": [
        "(2928, 64, 128)"
       ]
      }
     ],
     "prompt_number": 20
    },
    {
     "cell_type": "code",
     "collapsed": false,
     "input": [
      "vwnd[0,43,:]"
     ],
     "language": "python",
     "metadata": {},
     "outputs": [
      {
       "metadata": {},
       "output_type": "pyout",
       "prompt_number": 25,
       "text": [
        "masked_array(data = [-- -- -- -- -- -- -- -- -- -- -- -- -- -- -- -- -- -- -- -- -- -- -- -- --\n",
        " -- -- -- -- -- -- -- -- -- -- -- -- -- -- -- -- -- -- -- -- -- -- -- -- --\n",
        " -- -- -- -- -- -- -- -- -- -- -- -- -- -- -- -- -- -- -- -- -- -- -- -- --\n",
        " -- -- -- -- -- -- -- -- -- -- -- -- -- -- -- -- -- -- -- -- -- -- -- -- --\n",
        " -- -- -- -- -- -- -- -- -- -- -- -- -- -- -- -- -- -- -- -- -- -- -- -- --\n",
        " -- -- --],\n",
        "             mask = [ True  True  True  True  True  True  True  True  True  True  True  True\n",
        "  True  True  True  True  True  True  True  True  True  True  True  True\n",
        "  True  True  True  True  True  True  True  True  True  True  True  True\n",
        "  True  True  True  True  True  True  True  True  True  True  True  True\n",
        "  True  True  True  True  True  True  True  True  True  True  True  True\n",
        "  True  True  True  True  True  True  True  True  True  True  True  True\n",
        "  True  True  True  True  True  True  True  True  True  True  True  True\n",
        "  True  True  True  True  True  True  True  True  True  True  True  True\n",
        "  True  True  True  True  True  True  True  True  True  True  True  True\n",
        "  True  True  True  True  True  True  True  True  True  True  True  True\n",
        "  True  True  True  True  True  True  True  True],\n",
        "       fill_value = -32767)"
       ]
      }
     ],
     "prompt_number": 25
    },
    {
     "cell_type": "code",
     "collapsed": false,
     "input": [
      "lons[:10]"
     ],
     "language": "python",
     "metadata": {},
     "outputs": [
      {
       "metadata": {},
       "output_type": "pyout",
       "prompt_number": 14,
       "text": [
        "array([  0.    ,   2.8125,   5.625 ,   8.4375,  11.25  ,  14.0625,\n",
        "        16.875 ,  19.6875,  22.5   ,  25.3125])"
       ]
      }
     ],
     "prompt_number": 14
    },
    {
     "cell_type": "code",
     "collapsed": false,
     "input": [
      "lons"
     ],
     "language": "python",
     "metadata": {},
     "outputs": [
      {
       "metadata": {},
       "output_type": "pyout",
       "prompt_number": 19,
       "text": [
        "array([   0.    ,    2.8125,    5.625 ,    8.4375,   11.25  ,   14.0625,\n",
        "         16.875 ,   19.6875,   22.5   ,   25.3125,   28.125 ,   30.9375,\n",
        "         33.75  ,   36.5625,   39.375 ,   42.1875,   45.    ,   47.8125,\n",
        "         50.625 ,   53.4375,   56.25  ,   59.0625,   61.875 ,   64.6875,\n",
        "         67.5   ,   70.3125,   73.125 ,   75.9375,   78.75  ,   81.5625,\n",
        "         84.375 ,   87.1875,   90.    ,   92.8125,   95.625 ,   98.4375,\n",
        "        101.25  ,  104.0625,  106.875 ,  109.6875,  112.5   ,  115.3125,\n",
        "        118.125 ,  120.9375,  123.75  ,  126.5625,  129.375 ,  132.1875,\n",
        "        135.    ,  137.8125,  140.625 ,  143.4375,  146.25  ,  149.0625,\n",
        "        151.875 ,  154.6875,  157.5   ,  160.3125,  163.125 ,  165.9375,\n",
        "        168.75  ,  171.5625,  174.375 ,  177.1875,  180.    ,  182.8125,\n",
        "        185.625 ,  188.4375,  191.25  ,  194.0625,  196.875 ,  199.6875,\n",
        "        202.5   ,  205.3125,  208.125 ,  210.9375,  213.75  ,  216.5625,\n",
        "        219.375 ,  222.1875,  225.    ,  227.8125,  230.625 ,  233.4375,\n",
        "        236.25  ,  239.0625,  241.875 ,  244.6875,  247.5   ,  250.3125,\n",
        "        253.125 ,  255.9375,  258.75  ,  261.5625,  264.375 ,  267.1875,\n",
        "        270.    ,  272.8125,  275.625 ,  278.4375,  281.25  ,  284.0625,\n",
        "        286.875 ,  289.6875,  292.5   ,  295.3125,  298.125 ,  300.9375,\n",
        "        303.75  ,  306.5625,  309.375 ,  312.1875,  315.    ,  317.8125,\n",
        "        320.625 ,  323.4375,  326.25  ,  329.0625,  331.875 ,  334.6875,\n",
        "        337.5   ,  340.3125,  343.125 ,  345.9375,  348.75  ,  351.5625,\n",
        "        354.375 ,  357.1875])"
       ]
      }
     ],
     "prompt_number": 19
    },
    {
     "cell_type": "code",
     "collapsed": false,
     "input": [
      "lats"
     ],
     "language": "python",
     "metadata": {},
     "outputs": [
      {
       "metadata": {},
       "output_type": "pyout",
       "prompt_number": 18,
       "text": [
        "array([ 87.86379884,  85.09652699,  82.31291295,  79.52560657,\n",
        "        76.73689968,  73.94751515,  71.15775201,  68.36775611,\n",
        "        65.57760701,  62.7873518 ,  59.99702011,  57.20663153,\n",
        "        54.41619953,  51.62573367,  48.83524097,  46.04472663,\n",
        "        43.25419467,  40.46364818,  37.67308963,  34.88252099,\n",
        "        32.09194388,  29.30135962,  26.51076933,  23.72017393,\n",
        "        20.92957425,  18.13897099,  15.34836476,  12.55775612,\n",
        "         9.76714556,   6.97653355,   4.18592053,   1.39530691,\n",
        "        -1.39530691,  -4.18592053,  -6.97653355,  -9.76714556,\n",
        "       -12.55775612, -15.34836476, -18.13897099, -20.92957425,\n",
        "       -23.72017393, -26.51076933, -29.30135962, -32.09194388,\n",
        "       -34.88252099, -37.67308963, -40.46364818, -43.25419467,\n",
        "       -46.04472663, -48.83524097, -51.62573367, -54.41619953,\n",
        "       -57.20663153, -59.99702011, -62.7873518 , -65.57760701,\n",
        "       -68.36775611, -71.15775201, -73.94751515, -76.73689968,\n",
        "       -79.52560657, -82.31291295, -85.09652699, -87.86379884])"
       ]
      }
     ],
     "prompt_number": 18
    },
    {
     "cell_type": "code",
     "collapsed": false,
     "input": [
      "lats[:10]"
     ],
     "language": "python",
     "metadata": {},
     "outputs": [
      {
       "metadata": {},
       "output_type": "pyout",
       "prompt_number": 15,
       "text": [
        "array([ 87.86379884,  85.09652699,  82.31291295,  79.52560657,\n",
        "        76.73689968,  73.94751515,  71.15775201,  68.36775611,\n",
        "        65.57760701,  62.7873518 ])"
       ]
      }
     ],
     "prompt_number": 15
    },
    {
     "cell_type": "code",
     "collapsed": false,
     "input": [
      "np.shape(y)"
     ],
     "language": "python",
     "metadata": {},
     "outputs": [
      {
       "metadata": {},
       "output_type": "pyout",
       "prompt_number": 23,
       "text": [
        "(277,)"
       ]
      }
     ],
     "prompt_number": 23
    },
    {
     "cell_type": "code",
     "collapsed": false,
     "input": [
      "for i in np.arange(10):\n",
      "    print x[i+1] - x[i]"
     ],
     "language": "python",
     "metadata": {},
     "outputs": [
      {
       "output_type": "stream",
       "stream": "stdout",
       "text": [
        "32463.0\n",
        "32463.0\n",
        "32463.0\n",
        "32463.0\n",
        "32463.0\n",
        "32463.0\n",
        "32463.0\n",
        "32463.0\n",
        "32463.0\n",
        "32463.0\n"
       ]
      }
     ],
     "prompt_number": 27
    },
    {
     "cell_type": "code",
     "collapsed": false,
     "input": [
      "for i in np.arange(10):\n",
      "    print y[i+1] - y[i]"
     ],
     "language": "python",
     "metadata": {},
     "outputs": [
      {
       "output_type": "stream",
       "stream": "stdout",
       "text": [
        "32463.0\n",
        "32463.0\n",
        "32463.0\n",
        "32463.0\n",
        "32463.0\n",
        "32463.0\n",
        "32463.0\n",
        "32463.0\n",
        "32463.0\n",
        "32463.0\n"
       ]
      }
     ],
     "prompt_number": 28
    },
    {
     "cell_type": "code",
     "collapsed": false,
     "input": [
      "x[:10]"
     ],
     "language": "python",
     "metadata": {},
     "outputs": [
      {
       "metadata": {},
       "output_type": "pyout",
       "prompt_number": 24,
       "text": [
        "array([      0.,   32463.,   64926.,   97389.,  129852.,  162315.,\n",
        "        194778.,  227241.,  259704.,  292167.], dtype=float32)"
       ]
      }
     ],
     "prompt_number": 24
    },
    {
     "cell_type": "code",
     "collapsed": false,
     "input": [
      "x[100:110]"
     ],
     "language": "python",
     "metadata": {},
     "outputs": [
      {
       "metadata": {},
       "output_type": "pyout",
       "prompt_number": 26,
       "text": [
        "array([ 3246300.,  3278763.,  3311226.,  3343689.,  3376152.,  3408615.,\n",
        "        3441078.,  3473541.,  3506004.,  3538467.], dtype=float32)"
       ]
      }
     ],
     "prompt_number": 26
    },
    {
     "cell_type": "code",
     "collapsed": false,
     "input": [
      "y[:10]"
     ],
     "language": "python",
     "metadata": {},
     "outputs": [
      {
       "metadata": {},
       "output_type": "pyout",
       "prompt_number": 25,
       "text": [
        "array([      0.,   32463.,   64926.,   97389.,  129852.,  162315.,\n",
        "        194778.,  227241.,  259704.,  292167.], dtype=float32)"
       ]
      }
     ],
     "prompt_number": 25
    },
    {
     "cell_type": "code",
     "collapsed": false,
     "input": [
      "len(lons)"
     ],
     "language": "python",
     "metadata": {},
     "outputs": [
      {
       "metadata": {},
       "output_type": "pyout",
       "prompt_number": 11,
       "text": [
        "277"
       ]
      }
     ],
     "prompt_number": 11
    },
    {
     "cell_type": "code",
     "collapsed": false,
     "input": [
      "len(lats)"
     ],
     "language": "python",
     "metadata": {},
     "outputs": [
      {
       "metadata": {},
       "output_type": "pyout",
       "prompt_number": 12,
       "text": [
        "277"
       ]
      }
     ],
     "prompt_number": 12
    },
    {
     "cell_type": "code",
     "collapsed": false,
     "input": [
      "len(vwnd)"
     ],
     "language": "python",
     "metadata": {},
     "outputs": [
      {
       "metadata": {},
       "output_type": "pyout",
       "prompt_number": 13,
       "text": [
        "2928"
       ]
      }
     ],
     "prompt_number": 13
    },
    {
     "cell_type": "code",
     "collapsed": false,
     "input": [
      "np.shape(lons)"
     ],
     "language": "python",
     "metadata": {},
     "outputs": [
      {
       "metadata": {},
       "output_type": "pyout",
       "prompt_number": 15,
       "text": [
        "(277, 349)"
       ]
      }
     ],
     "prompt_number": 15
    },
    {
     "cell_type": "code",
     "collapsed": false,
     "input": [
      "np.shape(lats)"
     ],
     "language": "python",
     "metadata": {},
     "outputs": [
      {
       "metadata": {},
       "output_type": "pyout",
       "prompt_number": 16,
       "text": [
        "(277, 349)"
       ]
      }
     ],
     "prompt_number": 16
    },
    {
     "cell_type": "code",
     "collapsed": false,
     "input": [
      "lons[0,0:5]"
     ],
     "language": "python",
     "metadata": {},
     "outputs": [
      {
       "metadata": {},
       "output_type": "pyout",
       "prompt_number": 17,
       "text": [
        "array([-145.5       , -145.31503296, -145.12953186, -144.94352722,\n",
        "       -144.75700378], dtype=float32)"
       ]
      }
     ],
     "prompt_number": 17
    },
    {
     "cell_type": "code",
     "collapsed": false,
     "input": [
      "lons[1,0:5]"
     ],
     "language": "python",
     "metadata": {},
     "outputs": [
      {
       "metadata": {},
       "output_type": "pyout",
       "prompt_number": 29,
       "text": [
        "array([-145.60473633, -145.41944885, -145.23364258, -145.0473175 ,\n",
        "       -144.86047363], dtype=float32)"
       ]
      }
     ],
     "prompt_number": 29
    },
    {
     "cell_type": "code",
     "collapsed": false,
     "input": [
      "1/(lons[0,1]-lons[0,0])"
     ],
     "language": "python",
     "metadata": {},
     "outputs": [
      {
       "metadata": {},
       "output_type": "pyout",
       "prompt_number": 18,
       "text": [
        "5.4063685860419071"
       ]
      }
     ],
     "prompt_number": 18
    },
    {
     "cell_type": "code",
     "collapsed": false,
     "input": [
      "1/(lons[0,2]-lons[0,1])"
     ],
     "language": "python",
     "metadata": {},
     "outputs": [
      {
       "metadata": {},
       "output_type": "pyout",
       "prompt_number": 19,
       "text": [
        "5.3908036522168299"
       ]
      }
     ],
     "prompt_number": 19
    },
    {
     "cell_type": "code",
     "collapsed": false,
     "input": [
      "1/(lons[0,3]-lons[0,2])"
     ],
     "language": "python",
     "metadata": {},
     "outputs": [
      {
       "metadata": {},
       "output_type": "pyout",
       "prompt_number": 20,
       "text": [
        "5.3762100082034454"
       ]
      }
     ],
     "prompt_number": 20
    },
    {
     "cell_type": "code",
     "collapsed": false,
     "input": [
      "##Write text files "
     ],
     "language": "python",
     "metadata": {},
     "outputs": []
    },
    {
     "cell_type": "code",
     "collapsed": false,
     "input": [
      "## write data in netcdf format to text file, intended for PLACE basin\n",
      "## nlats, nlons can be determined with *ncdump -h* beforehand\n",
      "nlats = 12\n",
      "nlons = 36\n",
      "ifile = '/Volumes/HDTemp/jiawei/pacific/PLACE/{0}_{1}_{2}.nc'\n",
      "odir = '/Volumes/HDTemp/jiawei/pacific/txt/PLACE/{0}/{1}'\n",
      "ofile = '/Volumes/HDTemp/jiawei/pacific/txt/PLACE/{0}/{1}/data_{2}_{3}'\n",
      "models = ['BCSD+ANUSPLIN300+CanESM2','BCSD+ANUSPLIN300+ACCESS1-0','BCSD+ANUSPLIN300+CNRM-CM5','BCSD+ANUSPLIN300+MRI-CGCM3',\n",
      "'BCSD+ANUSPLIN300+MIROC5','BCSD+ANUSPLIN300+MPI-ESM-LR','BCSD+ANUSPLIN300+CSIRO-Mk3-6-0','BCSD+ANUSPLIN300+inmcm4',\n",
      "'BCSD+ANUSPLIN300+GFDL-ESM2G','BCSD+ANUSPLIN300+HadGEM2-CC','BCSD+ANUSPLIN300+HadGEM2-ES','BCSD+ANUSPLIN300+CCSM4']\n",
      "scenarios = ['historical_rcp45','historical_rcp85']\n",
      "for model in models:\n",
      "    for scenario in scenarios:\n",
      "        odir_t = odir.format(model,scenario)\n",
      "        if os.path.exists(odir_t):\n",
      "            print 'Existing path: {0}'.format(odir_t)\n",
      "        else:\n",
      "            os.makedirs(odir_t)\n",
      "        for nlat in range(nlats):\n",
      "            for nlon in range(nlons):\n",
      "                df_pr,lat,lon = get_data_ts(ifile.format(model,scenario,'pr'),nlat,nlon)\n",
      "                df_tasmax,lat,lon = get_data_ts(ifile.format(model,scenario,'tasmax'),nlat,nlon)\n",
      "                df_tasmin,lat,lon = get_data_ts(ifile.format(model,scenario,'tasmin'),nlat,nlon)\n",
      "                array = np.array([df_pr.values,df_tasmax.values,df_tasmin.values])\n",
      "                np.savetxt(ofile.format(model,scenario,lat,lon),array.transpose(),fmt='%3f')"
     ],
     "language": "python",
     "metadata": {},
     "outputs": []
    },
    {
     "cell_type": "code",
     "collapsed": false,
     "input": [
      "import mpl_toolkits.basemap as Basemap"
     ],
     "language": "python",
     "metadata": {},
     "outputs": [
      {
       "ename": "ImportError",
       "evalue": "No module named basemap",
       "output_type": "pyerr",
       "traceback": [
        "\u001b[0;31m---------------------------------------------------------------------------\u001b[0m\n\u001b[0;31mImportError\u001b[0m                               Traceback (most recent call last)",
        "\u001b[0;32m<ipython-input-37-7e7ec81f54ef>\u001b[0m in \u001b[0;36m<module>\u001b[0;34m()\u001b[0m\n\u001b[0;32m----> 1\u001b[0;31m \u001b[0;32mimport\u001b[0m \u001b[0mmpl_toolkits\u001b[0m\u001b[0;34m.\u001b[0m\u001b[0mbasemap\u001b[0m \u001b[0;32mas\u001b[0m \u001b[0mBasemap\u001b[0m\u001b[0;34m\u001b[0m\u001b[0m\n\u001b[0m",
        "\u001b[0;31mImportError\u001b[0m: No module named basemap"
       ]
      }
     ],
     "prompt_number": 37
    },
    {
     "cell_type": "code",
     "collapsed": false,
     "input": [
      "sys.path"
     ],
     "language": "python",
     "metadata": {},
     "outputs": [
      {
       "metadata": {},
       "output_type": "pyout",
       "prompt_number": 38,
       "text": [
        "['',\n",
        " '/Users/erkan/jiawei/env/lib/python27.zip',\n",
        " '/Users/erkan/jiawei/env/lib/python2.7',\n",
        " '/Users/erkan/jiawei/env/lib/python2.7/plat-darwin',\n",
        " '/Users/erkan/jiawei/env/lib/python2.7/plat-mac',\n",
        " '/Users/erkan/jiawei/env/lib/python2.7/plat-mac/lib-scriptpackages',\n",
        " '/Users/erkan/jiawei/env/lib/python2.7/lib-tk',\n",
        " '/Users/erkan/jiawei/env/lib/python2.7/lib-old',\n",
        " '/Users/erkan/jiawei/env/lib/python2.7/lib-dynload',\n",
        " '/opt/local/Library/Frameworks/Python.framework/Versions/2.7/lib/python2.7',\n",
        " '/opt/local/Library/Frameworks/Python.framework/Versions/2.7/lib/python2.7/plat-darwin',\n",
        " '/opt/local/Library/Frameworks/Python.framework/Versions/2.7/lib/python2.7/lib-tk',\n",
        " '/opt/local/Library/Frameworks/Python.framework/Versions/2.7/lib/python2.7/plat-mac',\n",
        " '/opt/local/Library/Frameworks/Python.framework/Versions/2.7/lib/python2.7/plat-mac/lib-scriptpackages',\n",
        " '/Users/erkan/jiawei/env/lib/python2.7/site-packages',\n",
        " '/Users/erkan/jiawei/env/lib/python2.7/site-packages/IPython/extensions',\n",
        " '/opt/local/Library/Frameworks/Python.framework/Versions/2.7/lib/python2.7/site-packages',\n",
        " '/opt/local/Library/Frameworks/Python.framework/Versions/2.7/lib/python2.7/site-packages',\n",
        " '/opt/local/Library/Frameworks/Python.framework/Versions/2.7/lib/python2.7/site-packages/basemap-1.0.6-py2.7.egg-inf']"
       ]
      }
     ],
     "prompt_number": 38
    },
    {
     "cell_type": "code",
     "collapsed": false,
     "input": [],
     "language": "python",
     "metadata": {},
     "outputs": []
    },
    {
     "cell_type": "code",
     "collapsed": false,
     "input": [
      "nlats = 24\n",
      "nlons = 30\n",
      "ifile = '/Volumes/HDTemp/jiawei/pacific/UNSR/{0}_{1}_{2}.nc'\n",
      "odir = '/Volumes/HDTemp/jiawei/pacific/txt/UNSR/{0}/{1}'\n",
      "ofile = '/Volumes/HDTemp/jiawei/pacific/txt/UNSR/{0}/{1}/data_{2}_{3}'\n",
      "models = ['BCSD+ANUSPLIN300+CanESM2','BCSD+ANUSPLIN300+ACCESS1-0','BCSD+ANUSPLIN300+CNRM-CM5','BCSD+ANUSPLIN300+MRI-CGCM3',\n",
      "'BCSD+ANUSPLIN300+MIROC5','BCSD+ANUSPLIN300+MPI-ESM-LR','BCSD+ANUSPLIN300+CSIRO-Mk3-6-0','BCSD+ANUSPLIN300+inmcm4',\n",
      "'BCSD+ANUSPLIN300+GFDL-ESM2G','BCSD+ANUSPLIN300+HadGEM2-CC','BCSD+ANUSPLIN300+HadGEM2-ES','BCSD+ANUSPLIN300+CCSM4']\n",
      "scenarios = ['historical_rcp45','historical_rcp85']\n",
      "for model in models:\n",
      "    for scenario in scenarios:\n",
      "        odir_t = odir.format(model,scenario)\n",
      "        if os.path.exists(odir_t):\n",
      "            print 'Existing path: {0}'.format(odir_t)\n",
      "        else:\n",
      "            os.makedirs(odir_t)\n",
      "        for nlat in range(nlats):\n",
      "            for nlon in range(nlons):\n",
      "                df_pr,lat,lon = get_data_ts(ifile.format(model,scenario,'pr'),nlat,nlon)\n",
      "                df_tasmax,lat,lon = get_data_ts(ifile.format(model,scenario,'tasmax'),nlat,nlon)\n",
      "                df_tasmin,lat,lon = get_data_ts(ifile.format(model,scenario,'tasmin'),nlat,nlon)\n",
      "                array = np.array([df_pr.values,df_tasmax.values,df_tasmin.values])\n",
      "                np.savetxt(ofile.format(model,scenario,lat,lon),array.transpose(),fmt='%3f')"
     ],
     "language": "python",
     "metadata": {},
     "outputs": [],
     "prompt_number": 5
    },
    {
     "cell_type": "code",
     "collapsed": false,
     "input": [],
     "language": "python",
     "metadata": {},
     "outputs": []
    },
    {
     "cell_type": "code",
     "collapsed": false,
     "input": [
      "ifile = '/Volumes/HDTemp/jiawei/pacific/PLACE/BCSD+ANUSPLIN300+CanESM2_historical_rcp45_{0}.nc'\n",
      "df_pr,lat,lon = get_data_ts(ifile.format('pr'),11,35)\n",
      "df_tasmax,lat,lon = get_data_ts(ifile.format('tasmax'),11,35)\n",
      "df_tasmin,lat,lon = get_data_ts(ifile.format('tasmin'),11,35)"
     ],
     "language": "python",
     "metadata": {},
     "outputs": [],
     "prompt_number": 96
    },
    {
     "cell_type": "code",
     "collapsed": false,
     "input": [
      "array = np.array([df_pr.values,df_tasmax.values,df_tasmin.values])"
     ],
     "language": "python",
     "metadata": {},
     "outputs": [],
     "prompt_number": 100
    },
    {
     "cell_type": "code",
     "collapsed": false,
     "input": [
      "np.savetxt('data_{0}_{1}'.format(lat,lon),array.transpose(),fmt='%3f')"
     ],
     "language": "python",
     "metadata": {},
     "outputs": [],
     "prompt_number": 106
    },
    {
     "cell_type": "code",
     "collapsed": false,
     "input": [
      "models = ['BCSD+ANUSPLIN300+CanESM2','BCSD+ANUSPLIN300+ACCESS1-0','BCSD+ANUSPLIN300+CNRM-CM5','BCSD+ANUSPLIN300+MRI-CGCM3',\n",
      "'BCSD+ANUSPLIN300+MIROC5','BCSD+ANUSPLIN300+MPI-ESM-LR','BCSD+ANUSPLIN300+CSIRO-Mk3-6-0','BCSD+ANUSPLIN300+inmcm4',\n",
      "'BCSD+ANUSPLIN300+GFDL-ESM2G','BCSD+ANUSPLIN300+HadGEM2-CC','BCSD+ANUSPLIN300+HadGEM2-ES','BCSD+ANUSPLIN300+CCSM4']\n",
      "scenarios = ['historical_rcp45','historical_rcp85']\n",
      "variables = ['pr','tasmax','tasmin']"
     ],
     "language": "python",
     "metadata": {},
     "outputs": []
    },
    {
     "cell_type": "code",
     "collapsed": false,
     "input": [
      "os.makedirs('/Volumes/HDTemp/jiawei/pacific/first/second')"
     ],
     "language": "python",
     "metadata": {},
     "outputs": [],
     "prompt_number": 110
    },
    {
     "cell_type": "code",
     "collapsed": false,
     "input": [
      "np.shape(array.transpose())"
     ],
     "language": "python",
     "metadata": {},
     "outputs": [
      {
       "metadata": {},
       "output_type": "pyout",
       "prompt_number": 105,
       "text": [
        "(55152, 3)"
       ]
      }
     ],
     "prompt_number": 105
    },
    {
     "cell_type": "code",
     "collapsed": false,
     "input": [
      "lat"
     ],
     "language": "python",
     "metadata": {},
     "outputs": [
      {
       "metadata": {},
       "output_type": "pyout",
       "prompt_number": 77,
       "text": [
        "53.458332835"
       ]
      }
     ],
     "prompt_number": 77
    },
    {
     "cell_type": "code",
     "collapsed": false,
     "input": [
      "len(lon)"
     ],
     "language": "python",
     "metadata": {},
     "outputs": [
      {
       "metadata": {},
       "output_type": "pyout",
       "prompt_number": 71,
       "text": [
        "30"
       ]
      }
     ],
     "prompt_number": 71
    },
    {
     "cell_type": "code",
     "collapsed": false,
     "input": [
      "lat[23]"
     ],
     "language": "python",
     "metadata": {},
     "outputs": [
      {
       "metadata": {},
       "output_type": "pyout",
       "prompt_number": 74,
       "text": [
        "53.458332835"
       ]
      }
     ],
     "prompt_number": 74
    },
    {
     "cell_type": "code",
     "collapsed": false,
     "input": [
      "lat"
     ],
     "language": "python",
     "metadata": {},
     "outputs": [
      {
       "metadata": {},
       "output_type": "pyout",
       "prompt_number": 62,
       "text": [
        "array([-118.45833423, -118.37500091, -118.29166758, -118.20833425,\n",
        "       -118.12500092, -118.04166758, -117.95833425, -117.87500092,\n",
        "       -117.7916676 , -117.70833427, -117.62500094, -117.54166761,\n",
        "       -117.45833427, -117.37500094, -117.29166761, -117.20833429,\n",
        "       -117.12500096, -117.04166763, -116.9583343 , -116.87500096,\n",
        "       -116.79166763, -116.7083343 , -116.62500098, -116.54166765,\n",
        "       -116.45833432, -116.37500098, -116.29166765, -116.20833432,\n",
        "       -116.12500099, -116.04166767])"
       ]
      }
     ],
     "prompt_number": 62
    },
    {
     "cell_type": "code",
     "collapsed": false,
     "input": [
      "df.values"
     ],
     "language": "python",
     "metadata": {},
     "outputs": [
      {
       "metadata": {},
       "output_type": "pyout",
       "prompt_number": 61,
       "text": [
        "array([-6.57999992, -7.29999971, -8.57999992, ...,  0.17999999,\n",
        "       -6.67999983, -7.98999977], dtype=float32)"
       ]
      }
     ],
     "prompt_number": 61
    },
    {
     "cell_type": "code",
     "collapsed": false,
     "input": [
      "lats = [format(la,'.5f') for la in lat]"
     ],
     "language": "python",
     "metadata": {},
     "outputs": [],
     "prompt_number": 33
    },
    {
     "cell_type": "code",
     "collapsed": false,
     "input": [
      "len(lats)"
     ],
     "language": "python",
     "metadata": {},
     "outputs": [
      {
       "metadata": {},
       "output_type": "pyout",
       "prompt_number": 49,
       "text": [
        "30"
       ]
      }
     ],
     "prompt_number": 49
    },
    {
     "cell_type": "code",
     "collapsed": false,
     "input": [
      "len(lons)"
     ],
     "language": "python",
     "metadata": {},
     "outputs": [
      {
       "metadata": {},
       "output_type": "pyout",
       "prompt_number": 50,
       "text": [
        "24"
       ]
      }
     ],
     "prompt_number": 50
    },
    {
     "cell_type": "code",
     "collapsed": false,
     "input": [
      "(lon[2] - lon[1])"
     ],
     "language": "python",
     "metadata": {},
     "outputs": [
      {
       "ename": "NameError",
       "evalue": "name 'lon' is not defined",
       "output_type": "pyerr",
       "traceback": [
        "\u001b[0;31m---------------------------------------------------------------------------\u001b[0m\n\u001b[0;31mNameError\u001b[0m                                 Traceback (most recent call last)",
        "\u001b[0;32m<ipython-input-3-2364b1af7101>\u001b[0m in \u001b[0;36m<module>\u001b[0;34m()\u001b[0m\n\u001b[0;32m----> 1\u001b[0;31m \u001b[0;36m1\u001b[0m\u001b[0;34m/\u001b[0m\u001b[0;34m(\u001b[0m\u001b[0mlon\u001b[0m\u001b[0;34m[\u001b[0m\u001b[0;36m2\u001b[0m\u001b[0;34m]\u001b[0m \u001b[0;34m-\u001b[0m \u001b[0mlon\u001b[0m\u001b[0;34m[\u001b[0m\u001b[0;36m1\u001b[0m\u001b[0;34m]\u001b[0m\u001b[0;34m)\u001b[0m\u001b[0;34m\u001b[0m\u001b[0m\n\u001b[0m",
        "\u001b[0;31mNameError\u001b[0m: name 'lon' is not defined"
       ]
      }
     ],
     "prompt_number": 3
    },
    {
     "cell_type": "code",
     "collapsed": false,
     "input": [
      "1/0.083333"
     ],
     "language": "python",
     "metadata": {},
     "outputs": [
      {
       "metadata": {},
       "output_type": "pyout",
       "prompt_number": 4,
       "text": [
        "12.000048000192"
       ]
      }
     ],
     "prompt_number": 4
    },
    {
     "cell_type": "code",
     "collapsed": false,
     "input": [
      "1/0.0625"
     ],
     "language": "python",
     "metadata": {},
     "outputs": [
      {
       "metadata": {},
       "output_type": "pyout",
       "prompt_number": 2,
       "text": [
        "16.0"
       ]
      }
     ],
     "prompt_number": 2
    },
    {
     "cell_type": "code",
     "collapsed": false,
     "input": [
      "0.09375 - 0.03125"
     ],
     "language": "python",
     "metadata": {},
     "outputs": [
      {
       "metadata": {},
       "output_type": "pyout",
       "prompt_number": 1,
       "text": [
        "0.0625"
       ]
      }
     ],
     "prompt_number": 1
    },
    {
     "cell_type": "code",
     "collapsed": false,
     "input": [
      "lons = [format(lo,'.5f') for lo in lon]"
     ],
     "language": "python",
     "metadata": {},
     "outputs": [],
     "prompt_number": 35
    },
    {
     "cell_type": "code",
     "collapsed": false,
     "input": [
      "lo = np.array(lons)\n",
      "la = np.array(lats)"
     ],
     "language": "python",
     "metadata": {},
     "outputs": [],
     "prompt_number": 40
    },
    {
     "cell_type": "code",
     "collapsed": false,
     "input": [
      "l = [float(lo) for lo in lons]"
     ],
     "language": "python",
     "metadata": {},
     "outputs": [],
     "prompt_number": 45
    },
    {
     "cell_type": "code",
     "collapsed": false,
     "input": [
      "df"
     ],
     "language": "python",
     "metadata": {},
     "outputs": [
      {
       "metadata": {},
       "output_type": "pyout",
       "prompt_number": 12,
       "text": [
        "1950-01-01     0.599989\n",
        "1950-01-02    28.699989\n",
        "1950-01-03     6.649989\n",
        "1950-01-04    15.374990\n",
        "1950-01-05     8.024989\n",
        "1950-01-06     0.000000\n",
        "1950-01-07     2.474989\n",
        "1950-01-08    20.349989\n",
        "1950-01-09    10.149989\n",
        "1950-01-10     0.674989\n",
        "1950-01-11     0.000000\n",
        "1950-01-12    20.374989\n",
        "1950-01-13     2.499989\n",
        "1950-01-14    31.649990\n",
        "1950-01-15    13.649989\n",
        "...\n",
        "2100-12-17    16.874989\n",
        "2100-12-18    26.899990\n",
        "2100-12-19     8.449989\n",
        "2100-12-20    29.724989\n",
        "2100-12-21     1.649989\n",
        "2100-12-22     1.624989\n",
        "2100-12-23    13.649989\n",
        "2100-12-24    18.324989\n",
        "2100-12-25    20.049990\n",
        "2100-12-26    10.849989\n",
        "2100-12-27     1.824989\n",
        "2100-12-28     6.399989\n",
        "2100-12-29     0.474989\n",
        "2100-12-30    10.799989\n",
        "2100-12-31    15.099989\n",
        "Length: 55152"
       ]
      }
     ],
     "prompt_number": 12
    }
   ],
   "metadata": {}
  }
 ]
}